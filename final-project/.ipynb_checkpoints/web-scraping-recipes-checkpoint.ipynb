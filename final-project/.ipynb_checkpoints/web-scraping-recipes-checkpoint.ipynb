{
 "cells": [
  {
   "cell_type": "code",
   "execution_count": 1,
   "metadata": {},
   "outputs": [],
   "source": [
    "import pandas as pd\n",
    "import numpy as np\n",
    "import requests\n",
    "from bs4 import BeautifulSoup\n",
    "import json"
   ]
  },
  {
   "cell_type": "code",
   "execution_count": null,
   "metadata": {},
   "outputs": [],
   "source": [
    "root = 'https://www.panelinha.com.br/receita/'"
   ]
  },
  {
   "cell_type": "code",
   "execution_count": null,
   "metadata": {},
   "outputs": [],
   "source": [
    "#Web scraping of main dishes\n",
    "\n",
    "main_links = []\n",
    "\n",
    "for pagenumber in tqdm_notebook(range(1,100)):\n",
    "    url_main = 'https://panelinha-api-server-prod.herokuapp.com/v1/search?pageType=receita&category=Pratos%20principais&pageSize=12&pageNumber=' + str(pagenumber)\n",
    "\n",
    "    html = requests.get(url_main).content\n",
    "    htmljson = json.loads(html)\n",
    "    \n",
    "    lst =  htmljson['data']['results']\n",
    "\n",
    "    for i in range(0,len(lst)):\n",
    "        link = root + lst[i]['slug']\n",
    "        main_links.append(link)\n"
   ]
  },
  {
   "cell_type": "code",
   "execution_count": null,
   "metadata": {},
   "outputs": [],
   "source": [
    "#Web scraping of side dishes\n",
    "\n",
    "side_links = []\n",
    "\n",
    "for pagenumber in tqdm_notebook(range(1,100)):\n",
    "    url_side = 'https://panelinha-api-server-prod.herokuapp.com/v1/search?category=Acompanhamentos&pageType=receita&pageSize=12&pageNumber=' + str(pagenumber)\n",
    "\n",
    "    html = requests.get(url_side).content\n",
    "    htmljson = json.loads(html)\n",
    "    \n",
    "    lst =  htmljson['data']['results']\n",
    "    \n",
    "    for i in range(0,len(lst)):\n",
    "        link = root + lst[i]['slug']\n",
    "        if link not in main_links:\n",
    "            side_links.append(link)\n"
   ]
  },
  {
   "cell_type": "code",
   "execution_count": null,
   "metadata": {},
   "outputs": [],
   "source": [
    "#Web scraping of desserts\n",
    "\n",
    "dessert_links = []\n",
    "\n",
    "for pagenumber in tqdm_notebook(range(1,100)):\n",
    "    url_dessert = 'https://panelinha-api-server-prod.herokuapp.com/v1/search?pageType=receita&category=Sobremesas&pageSize=12&pageNumber=' + str(pagenumber)\n",
    "\n",
    "    html = requests.get(url_dessert).content\n",
    "    htmljson = json.loads(html)\n",
    "    \n",
    "    lst =  htmljson['data']['results']\n",
    "    \n",
    "    for i in range(0,len(lst)):\n",
    "        link = root + lst[i]['slug']\n",
    "        if link not in main_links and link not in side_links:\n",
    "            dessert_links.append(link)\n"
   ]
  },
  {
   "cell_type": "code",
   "execution_count": null,
   "metadata": {},
   "outputs": [],
   "source": [
    "#Web scraping of drinks\n",
    "\n",
    "drink_links = []\n",
    "\n",
    "for pagenumber in tqdm_notebook(range(1,100)):\n",
    "    url_drink = 'https://panelinha-api-server-prod.herokuapp.com/v1/search?pageType=receita&category=Bebidas&pageSize=12&pageNumber=' + str(pagenumber)\n",
    "\n",
    "    html = requests.get(url_drink).content\n",
    "    htmljson = json.loads(html)\n",
    "    \n",
    "    lst =  htmljson['data']['results']\n",
    "    \n",
    "    for i in range(0,len(lst)):\n",
    "        link = root + lst[i]['slug']\n",
    "        if link not in main_links and link not in side_links and link not in dessert_links:\n",
    "            drink_links.append(link)"
   ]
  },
  {
   "cell_type": "code",
   "execution_count": null,
   "metadata": {},
   "outputs": [],
   "source": [
    "def df_builder(link_list, typ):\n",
    "    df = pd.DataFrame({'links':link_list})\n",
    "    df['type'] = len(df)*[typ]\n",
    "    return df\n",
    "\n",
    "#Transforming lists into dataframes\n",
    "df_main = df_builder(main_links, 'main')\n",
    "df_side = df_builder(side_links, 'side')\n",
    "df_dessert = df_builder(dessert_links, 'dessert')\n",
    "df_drink = df_builder(drink_links, 'drink')\n",
    "\n",
    "#Combining all of them in one dataframe\n",
    "recipes = pd.concat([df_main, df_side, df_dessert, df_drink]).reset_index(drop=True)"
   ]
  },
  {
   "cell_type": "code",
   "execution_count": null,
   "metadata": {},
   "outputs": [],
   "source": [
    "names_list = []\n",
    "portions_list = []\n",
    "prep_time_list = []\n",
    "ingredients_list = []\n",
    "directions_list = []\n",
    "\n",
    "for i in tqdm_notebook(range(0,len(recipes.links))):\n",
    "    html = requests.get(recipes.links[i]).content\n",
    "    soup = BeautifulSoup(html,\"lxml\")\n",
    "    \n",
    "    name = soup.find('h1').get_text()\n",
    "    names_list.append(name)\n",
    "    \n",
    "    portions = soup.find_all('span',{'class':'dd'})[2].get_text().strip()\n",
    "    portions_list.append(portions)\n",
    "    \n",
    "    prep_time = soup.find_all('span',{'class':'dd'})[1].get_text()\n",
    "    prep_time_list.append(prep_time)\n",
    "    \n",
    "    ingredients = soup.find_all('div',{'class':'editor ng-star-inserted'})[0].get_text(separator=' ')\n",
    "    ingredients_list.append(ingredients)\n",
    "    \n",
    "    directions = soup.find_all('div',{'class':'editor ng-star-inserted'})[1].get_text(separator=' ').replace('\\n', ' ').replace('\\xa0',' ')\n",
    "    directions_list.append(directions)\n",
    "    \n",
    "recipes['name'] = names_list\n",
    "recipes['portions'] = portions_list\n",
    "recipes['prep_time'] = prep_time_list\n",
    "recipes['ingredients'] = ingredients_list\n",
    "recipes['directions'] = directions_list"
   ]
  },
  {
   "cell_type": "code",
   "execution_count": null,
   "metadata": {},
   "outputs": [],
   "source": [
    "recipes.to_csv('recipes_done.csv', index=False)"
   ]
  }
 ],
 "metadata": {
  "kernelspec": {
   "display_name": "Python 3",
   "language": "python",
   "name": "python3"
  },
  "language_info": {
   "codemirror_mode": {
    "name": "ipython",
    "version": 3
   },
   "file_extension": ".py",
   "mimetype": "text/x-python",
   "name": "python",
   "nbconvert_exporter": "python",
   "pygments_lexer": "ipython3",
   "version": "3.7.3"
  }
 },
 "nbformat": 4,
 "nbformat_minor": 2
}
