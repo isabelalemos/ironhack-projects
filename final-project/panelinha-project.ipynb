{
 "cells": [
  {
   "cell_type": "code",
   "execution_count": 1,
   "metadata": {},
   "outputs": [],
   "source": [
    "import pandas as pd\n",
    "import numpy as np\n",
    "import re\n",
    "from tqdm import tqdm, tqdm_notebook\n",
    "import matplotlib.pyplot as plt\n",
    "from IPython.display import display, HTML"
   ]
  },
  {
   "cell_type": "markdown",
   "metadata": {},
   "source": [
    "Importing the scrapped data: "
   ]
  },
  {
   "cell_type": "code",
   "execution_count": 2,
   "metadata": {},
   "outputs": [],
   "source": [
    "df=pd.read_csv('recipes_full_info.csv')"
   ]
  },
  {
   "cell_type": "markdown",
   "metadata": {},
   "source": [
    "Exploring and preparing the dataset:"
   ]
  },
  {
   "cell_type": "code",
   "execution_count": 3,
   "metadata": {},
   "outputs": [
    {
     "data": {
      "text/plain": [
       "(1537, 8)"
      ]
     },
     "execution_count": 3,
     "metadata": {},
     "output_type": "execute_result"
    }
   ],
   "source": [
    "df.shape"
   ]
  },
  {
   "cell_type": "markdown",
   "metadata": {},
   "source": [
    "#### Preparation time:"
   ]
  },
  {
   "cell_type": "code",
   "execution_count": 4,
   "metadata": {
    "scrolled": true
   },
   "outputs": [
    {
     "data": {
      "text/plain": [
       "Pá-Pum        780\n",
       "Até 1h        307\n",
       "Até 2h        251\n",
       "Mais de 2h    199\n",
       "Name: prep_time, dtype: int64"
      ]
     },
     "execution_count": 4,
     "metadata": {},
     "output_type": "execute_result"
    }
   ],
   "source": [
    "df.prep_time.value_counts()"
   ]
  },
  {
   "cell_type": "markdown",
   "metadata": {},
   "source": [
    "#### Types:"
   ]
  },
  {
   "cell_type": "code",
   "execution_count": 5,
   "metadata": {},
   "outputs": [
    {
     "data": {
      "text/plain": [
       "main       656\n",
       "side       439\n",
       "dessert    329\n",
       "drink      113\n",
       "Name: type, dtype: int64"
      ]
     },
     "execution_count": 5,
     "metadata": {},
     "output_type": "execute_result"
    }
   ],
   "source": [
    "df.type.value_counts()"
   ]
  },
  {
   "cell_type": "markdown",
   "metadata": {},
   "source": [
    "#### Portions:"
   ]
  },
  {
   "cell_type": "code",
   "execution_count": 6,
   "metadata": {},
   "outputs": [],
   "source": [
    "replacements = {\"12 porções\": \"Mais de 6 porções\",\n",
    "                \"10 porções\": \"Mais de 6 porções\",\n",
    "                \"6 picolés\": \"Até 6 porções\",\n",
    "                \"15 porções\": \"Mais de 6 porções\",\n",
    "                \"10 espetos (4 pessoas)\": \"Até 4 porções\",\n",
    "                \"4 porções\": \"Até 4 porções\",\n",
    "                \"2 porções\": \"Até 2 porções\",\n",
    "                \"6 porções\": \"Até 6 porções\",\n",
    "                \"8 porções\": \"Mais de 6 porções\",\n",
    "                \"16 porções\": \"Mais de 6 porções\",\n",
    "                \"4 drinques\": \"Até 4 porções\",\n",
    "                \"3 pessoas\": \"Até 4 porções\",\n",
    "                \"1 pizza\": \"Até 4 porções\",\n",
    "                \"1 pote de 200 ml\": \"1 porção\",\n",
    "                \"1 ½  xícara (chá) (330 g)\": \"Mais de 6 porções\",\n",
    "                \"1/2 xícara (chá) (cerca de 150 g)\": \"Mais de 6 porções\",\n",
    "                \"1 taça\": \"1 porção\",\n",
    "                \"1 pizza\": \"Até 4 porções\",\n",
    "                \"1 potinho\": \"Até 4 porções\",\n",
    "                \"14 porções\": \"Mais de 6 porções\",\n",
    "                \"12 pessoas\": \"Mais de 6 porções\",\n",
    "                \"4 porções como prato principal e 6 como entrada\": \"Até 6 porções\",\n",
    "                \"10 panquecas\": \"Mais de 6 porções\",\n",
    "                \"6 porções como aperitivo, 4 como acompanhamento\": \"Até 6 porções\",\n",
    "                \"4 porções como principal (e 6 como acompanhamento)\": \"Até 6 porções\",\n",
    "                \"6 porções como entrada ou 4 como prato principa\": \"Até 6 porções\",\n",
    "                \"6 porções como entrada ou 4 como prato principal\": \"Até 6 porções\",\n",
    "                \"200 ml\": \"1 porção\",\n",
    "                \"4 pessoas (jarra de 1 L)\": \"Até 4 porções\",\n",
    "                \"2 bolos (16 fatias cada)\": \"Mais de 6 porções\",\n",
    "                \"12 pedaços\": \"Mais de 6 porções\",\n",
    "                \"10 drinques\": \"Mais de 6 porções\",\n",
    "                \"12 cubos de gelo\": \"Mais de 6 porções\",\n",
    "                \"6 porções como principal e 8 como entrada\": \"Mais de 6 porções\",\n",
    "                \"4 pessoas como entrada ou 2 como prato principal\": \"Até 4 porções\",\n",
    "                \"1 bolo (serve 12 pessoas)\": \"Mais de 6 porções\",\n",
    "                \"5 porções\":\"Até 6 porções\",\n",
    "                \"Serve até 8 porções\":\"Mais de 6 porções\",\n",
    "                \"8 a 10 porções\":\"Mais de 6 porções\",\n",
    "                \"4 porções como principal 6 como aperitivo\":\"Até 6 porções\",\n",
    "                \"12 fatias \":\"Mais de 6 porções\",\n",
    "                \"8 a 10 porções\":\"Mais de 6 porções\",\n",
    "                \"14 cocadas\":\"Mais de 6 porções\",\n",
    "                \"12 porçõoes\":\"Mais de 6 porções\",\n",
    "                \"8 porções - 3 ½ xícaras (chá)\":\"Mais de 6 porções\",\n",
    "                \"10 porções\":\"Mais de 6 porções\",\n",
    "                \"9 porções\":\"Mais de 6 porções\",\n",
    "                \"2 pessoas como prato principal (ou 4 pessoas como entrada) \":\"Até 4 porções\",\n",
    "                \"30 porções\":\"Mais de 6 porções\",\n",
    "                \"20 porções\":\"Mais de 6 porções\",\n",
    "                \"1 porção (três bolinhos)\":\"1 porção\",\n",
    "                \"3 pessoas (varia de acordo com o tamanho da cafeteira)\":\"Até 4 porções\",\n",
    "                \"10 verrines\":\"Mais de 6 porções\",\n",
    "                \"8 panquecas\":\"Mais de 6 porções\",\n",
    "                \"4 porções como principal ou 6 como acompanhamento\":\"Até de 6 porções\",\n",
    "                \"4 pessoas como principal ou 6 como acompanhamento\":\"Até de 6 porções\",\n",
    "                \"8 tarteletes\":\"Mais de 6 porções\",\n",
    "                \"6 unidades\":\"Até 6 porções\",\n",
    "                \"10 porções\":\"Mais de 6 porções\",\n",
    "                \"2 pessoas como prato principal (ou 4 pessoas como entrada)\":\"Até 4 porções\",\n",
    "                \"1 bolo grande\":\"Mais de 6 porções\",\n",
    "                \"1 bolo\":\"Mais de 6 porções\",\n",
    "                \"1 torta grande \":\"Mais de 6 porções\",\n",
    "                \"20 blinis\":\"Mais de 6 porções\",\n",
    "                \"15 bolinhos\":\"Até 6 porções\",\n",
    "                \"25 bolinhos\":\"Até 6 porções\",\n",
    "                \"12 bolinhos\":\"Até 4 porções\",\n",
    "                \"10 a 12 cubos de gelo \":\"Até 4 porções\",\n",
    "                \"6 bolinhos\":\"Até 2 porções\",\n",
    "                \"6 tortinhas\":\"Até 6 porções\",\n",
    "                \"3 porções\":\"Até 4 porções\",\n",
    "                \"12 porções\":\"Mais de 6 porções\",\n",
    "                \"1 drinque\":\"1 porção\",\n",
    "                \"6 tortinhas\":\"Até 6 porções\",\n",
    "                \"6 rabanadas\":\"Até 6 porções\",\n",
    "                \"4 pizzas\":\"Mais de 6 porções\",\n",
    "                \"2 pizzas\":\"Mais de 6 porções\",\n",
    "                \"1 pessoa\" :\"1 porção\",\n",
    "                \"16 porções\":\"Mais de 6 porções\",\n",
    "                \"2 drinques\": \"Até 2 porções\",\n",
    "                \"4 drinques\": \"Até 4 porções\",\n",
    "                \"1 torta de 25 cm de diâmetro\":\"Mais de 6 porções\",\n",
    "                \"3 ovos de páscoa de 250 g\":\"Até 4 porções\",\n",
    "                \"7 sacolés\":\"Mais de 6 porções\",\n",
    "                \"Até de 6 porções\":\"Mais de 6 porções\",\n",
    "                \"1 copo de 250 ml\":\"1 porção\",\n",
    "                \"15 copos\":\"Mais de 6 porções\",\n",
    "                \"20 brigadeiros\":\"Mais de 6 porções\",\n",
    "                \"8 beijus\":\"Mais de 6 porções\",\n",
    "                \"5 unidades\":\"Até 6 porções\",\n",
    "                \"1 torta média\":\"Até 6 porções\",\n",
    "                \"8 pães\":\"Mais de 6 porções\",\n",
    "                \"2 pães\":\"Até 2 porções\",\n",
    "                \"10 pastéis\":\"Mais de 6 porções\",\n",
    "                \"cerca de 20 unidades\":\"Mais de 6 porções\",\n",
    "                \"12 fatias\":\"Mais de 6 porções\",\n",
    "                \"1 pote\":\"1 porção\",\n",
    "                \"8 unidades\":\"Mais de 6 porções\",\n",
    "                \"12 unidades\":\"Mais de 6 porções\",\n",
    "                \"20 unidades\":\"Mais de 6 porções\",\n",
    "                \"50 unidades\":\"Mais de 6 porções\",\n",
    "                \"30 unidades\":\"Mais de 6 porções\",\n",
    "                \"32 unidades\":\"Mais de 6 porções\",\n",
    "                \"10 unidades\":\"Mais de 6 porções\",\n",
    "                '54 unidades':\"Mais de 6 porções\",\n",
    "                \"Até de 6 porções\":\"Até 6 porções\",\n",
    "                \"1 jarra\":\"Até 4 porções\",\n",
    "                \"1/2 xícara (chá)\":\"1 porção\",\n",
    "                \"Rende 1 xícara (chá)\":\"Até 2 porções\",\n",
    "                \"1 xícara (chá)\":\"1 porção\",\n",
    "                \"2 xícaras (chá)\":\"Até 2 porções\",\n",
    "                \"12 pãezinhos\":\"Mais de 6 porções\",\n",
    "                \"10 pãezinhos\":\"Mais de 6 porções\",\n",
    "                \"8 fatias\":\"Mais de 6 porções\",\n",
    "                \"15 fatias\":\"Mais de 6 porções\",\n",
    "                '14 espetos':\"Mais de 6 porções\",\n",
    "                '25 almôndegas':\"Mais de 6 porções\",\n",
    "                '800 ml':\"Até 4 porções\",\n",
    "                '1 torta grande':\"Mais de 6 porções\",\n",
    "                'Rende 1 xícara (chá) (cerca de 250 g)'\n",
    "                '1 ¾ xícara (chá)':\"Até 2 porções\",\n",
    "                '1 pote de 350 g':\"1 porção\",\n",
    "                '1 pote de 200 g':\"1 porção\",\n",
    "                'Cerca de 1 1/2 xícara (chá)':\"Até 2 porções\",\n",
    "                '500 ml':\"Até 4 porções\",\n",
    "                '2,5 kg (cerca de 2,2 litros)':\"Até 4 porções\",\n",
    "                '½ xícara (chá) (ou 1 pote de 120 ml)':\"1 porção\",\n",
    "                '½ xícara (chá)':\"1 porção\",\n",
    "                '1 pote de 450 g':\"1 porção\",\n",
    "                '1 xícara (cerca de 270 g)':\"1 porção\",\n",
    "                '1 pote de 500 ml':\"1 porção\",\n",
    "                'cerca de 1 kg':\"Até 6 porções\",\n",
    "                '3 xícaras (cerca de 800 g)'\n",
    "                '350 ml':\"Até 2 porções\",\n",
    "                '400 g':\"Até 2 porções\",\n",
    "                '300 ml':\"Até 4 porções\",\n",
    "                '250 ml':\"Até 4 porções\",\n",
    "                '750 ml':\"Até 4 porções\",\n",
    "                '16 pastéis':\"Mais de 6 porções\",\n",
    "                '56 unidades':\"Mais de 6 porções\",\n",
    "                '2 unidades de cerca de 500 g'\n",
    "                'cerca de 350 g (1 ½ xícara)':\"Até 2 porções\",\n",
    "                '1 pote de 90 g':\"1 porção\",\n",
    "                '3 xícaras (chá)':\"Até 4 porções\",\n",
    "                '2 1/2 xícaras (chá)':\"Até 4 porções\",\n",
    "                '75 ovinhos (5 fôrmas de mini ovinhos)':\"Mais de 6 porções\",\n",
    "                '10 casquinhas':\"Mais de 6 porções\",\n",
    "                'cobre 1 bolo inglês':\"1 porção\",\n",
    "                '6 xícaras (chá)':\"Até 6 porções\",\n",
    "                '740 g':\"Até 4 porções\",\n",
    "                'Cobre um bolo de cerca de 24 cm de diâmetro':\"1 porção\",\n",
    "                '18 unidades':\"Mais de 6 porções\",\n",
    "                '50 biscoitos':\"Mais de 6 porções\",\n",
    "                '1 pote de 300 g':\"1 porção\",\n",
    "                '1 ovo de páscoa de 250g':\"1 porção\",\n",
    "                '15 unidades':\"Mais de 6 porções\",\n",
    "                '10 a 12 cubos de gelo':\"Até 4 porções\",\n",
    "                '1,2 litro':\"Até 4 porções\",\n",
    "                '1 kg (4 xícaras)':\"Até 4 porções\",\n",
    "                '1 litro':\"Até 6 porções\",\n",
    "                '1 cacho de uvas':\"1 porção\",\n",
    "                'Rende 1 xícara (chá) (cerca de 250 g)':\"1 porção\",\n",
    "                '1 ¾ xícara (chá)':\"Até 2 porções\",\n",
    "                '3 xícaras (cerca de 800 g)':\"Até 4 porções\",\n",
    "                '350 ml':\"Até 4 porções\",\n",
    "                '2 unidades de cerca de 500 g':\"Até 2 porções\",\n",
    "                'cerca de 350 g (1 ½ xícara)':\"Até 2 porções\",\n",
    "               }"
   ]
  },
  {
   "cell_type": "code",
   "execution_count": 7,
   "metadata": {},
   "outputs": [
    {
     "data": {
      "text/plain": [
       "Até 4 porções        548\n",
       "Até 6 porções        292\n",
       "Mais de 6 porções    289\n",
       "Até 2 porções        238\n",
       "1 porção             168\n",
       "Até de 6 porções       2\n",
       "Name: portions, dtype: int64"
      ]
     },
     "execution_count": 7,
     "metadata": {},
     "output_type": "execute_result"
    }
   ],
   "source": [
    "df.portions = df.portions.apply(lambda x : replacements[x] if x in replacements.keys() else x)\n",
    "df.portions.value_counts()"
   ]
  },
  {
   "cell_type": "markdown",
   "metadata": {},
   "source": [
    "#### Ingredients:"
   ]
  },
  {
   "cell_type": "code",
   "execution_count": 8,
   "metadata": {},
   "outputs": [],
   "source": [
    "#!pip install unidecode --user"
   ]
  },
  {
   "cell_type": "code",
   "execution_count": 9,
   "metadata": {},
   "outputs": [],
   "source": [
    "#Importing functions to text cleaning:\n",
    "\n",
    "def clean_up(s):\n",
    "    \"\"\"\n",
    "    Cleans up numbers, URLs, and special characters from a string.\n",
    "\n",
    "    Args:\n",
    "        s: The string to be cleaned up.\n",
    "\n",
    "    Returns:\n",
    "        A string that has been cleaned up.\n",
    "    \"\"\"\n",
    "    import re\n",
    "    from unidecode import unidecode\n",
    "    x = s.replace('(chá)',' ') #To remove the \"(chá)\" measure, but keep the ingredient.\n",
    "    y = unidecode(x).lower()\n",
    "    return re.sub('[^a-z]',' ',y).strip()\n",
    "\n",
    "\n",
    "def tokenize(s):\n",
    "    \"\"\"\n",
    "    Tokenize a string.\n",
    "\n",
    "    Args:\n",
    "        s: String to be tokenized.\n",
    "\n",
    "    Returns:\n",
    "        A list of words as the result of tokenization.\n",
    "    \"\"\"\n",
    "    import nltk\n",
    "    return nltk.word_tokenize(s)\n",
    "\n",
    "\n",
    "def remove_stopwords(l):\n",
    "    \"\"\"\n",
    "    Remove Portuguese stopwords from a list of strings.\n",
    "\n",
    "    Args:\n",
    "        l: A list of strings.\n",
    "\n",
    "    Returns:\n",
    "        A list of strings after stop words are removed.\n",
    "    \"\"\"\n",
    "    \n",
    "    import nltk\n",
    "    from nltk.corpus import stopwords\n",
    "    \n",
    "    stop_words = set(stopwords.words('portuguese'))\n",
    "    \n",
    "    filtered_sentence = [w for w in l if not w in stop_words] \n",
    "  \n",
    "    return filtered_sentence\n",
    "\n",
    "\n",
    "#Finally, we have:\n",
    "def processing_func(x):\n",
    "    return remove_stopwords(tokenize(clean_up(x)))"
   ]
  },
  {
   "cell_type": "code",
   "execution_count": 10,
   "metadata": {},
   "outputs": [],
   "source": [
    "df['final_ingredients'] = df['ingredients'].apply(processing_func)"
   ]
  },
  {
   "cell_type": "code",
   "execution_count": 11,
   "metadata": {},
   "outputs": [],
   "source": [
    "#Building a bag of words of ingredients\n",
    "\n",
    "bag_of_ingredients = []\n",
    "\n",
    "for ingredients_list in df.final_ingredients:\n",
    "    for ingredient in ingredients_list:\n",
    "        if ingredient not in bag_of_ingredients:\n",
    "            bag_of_ingredients.append(ingredient)\n",
    "            \n",
    "#Sorting the list alphabetically\n",
    "bag_of_ingredients.sort()"
   ]
  },
  {
   "cell_type": "code",
   "execution_count": 12,
   "metadata": {},
   "outputs": [],
   "source": [
    "#!pip install fuzzywuzzy --user"
   ]
  },
  {
   "cell_type": "code",
   "execution_count": 13,
   "metadata": {},
   "outputs": [
    {
     "name": "stderr",
     "output_type": "stream",
     "text": [
      "C:\\Users\\isabe\\AppData\\Roaming\\Python\\Python37\\site-packages\\fuzzywuzzy\\fuzz.py:11: UserWarning: Using slow pure-python SequenceMatcher. Install python-Levenshtein to remove this warning\n",
      "  warnings.warn('Using slow pure-python SequenceMatcher. Install python-Levenshtein to remove this warning')\n"
     ]
    }
   ],
   "source": [
    "from fuzzywuzzy import fuzz \n",
    "from fuzzywuzzy import process\n",
    "\n",
    "replacements = {}\n",
    "\n",
    "for i in range(0, (len(bag_of_ingredients)-1)):\n",
    "    if fuzz.ratio(bag_of_ingredients[i],bag_of_ingredients[i+1]) > 85:\n",
    "        if bag_of_ingredients[i] in replacements.keys():\n",
    "            replacements[bag_of_ingredients[i+1]] = replacements[bag_of_ingredients[i]]\n",
    "        else:\n",
    "            replacements[bag_of_ingredients[i+1]] = bag_of_ingredients[i]"
   ]
  },
  {
   "cell_type": "code",
   "execution_count": 14,
   "metadata": {},
   "outputs": [],
   "source": [
    "# Manual check\n",
    "if 'cerveja' in replacements: del replacements['cerveja'] #Different of cereja\n",
    "if 'goiabada' in replacements: del replacements['goiabada'] #Different of goiaba\n",
    "if 'lulas' in replacements: del replacements['lulas'] #Different of lua\n",
    "if 'pimentao' in replacements: del replacements['pimentao'] #Different of pimenta\n",
    "if 'porco' in replacements: del replacements['porco'] #Different of porcao\n",
    "if 'poro' in replacements: del replacements['poro'] #Different of porcao\n",
    "if 'poros' in replacements: del replacements['poros'] #Different of porcao\n",
    "if 'suico' in replacements: del replacements['suico'] #Different of suco\n",
    "    \n",
    "#Adding new corrections for specific synonymous\n",
    "replacements['curcuma'] = 'acafrao'\n",
    "replacements['baroa'] = 'mandioquinha'\n",
    "replacements['aipim'] = 'mandioca'\n",
    "replacements['macaxeira'] = 'mandioca'\n",
    "replacements['chicoria'] = 'escarola'\n",
    "replacements['endivia'] = 'escarola'\n",
    "replacements['amido'] = 'maisena'\n",
    "replacements['pocan'] = 'mexerica'\n",
    "\n",
    "# Defining a new function of special stem, based on these replacements\n",
    "def special_stem(x):\n",
    "    special_filtered_sentence = [replacements[ingredient]\n",
    "                                 if ingredient in replacements.keys()\n",
    "                                 else ingredient\n",
    "                                 for ingredient in x]\n",
    "    return special_filtered_sentence"
   ]
  },
  {
   "cell_type": "code",
   "execution_count": 15,
   "metadata": {},
   "outputs": [],
   "source": [
    "#Applying function\n",
    "df['final_ingredients'] = df['final_ingredients'].apply(special_stem)"
   ]
  },
  {
   "cell_type": "code",
   "execution_count": 16,
   "metadata": {},
   "outputs": [],
   "source": [
    "def special_cleaning(x):\n",
    "\n",
    "    special_stop_words = ['peca','cerca','cada','gosto','fresco','frescos','ramos','ramo','tostadas',\n",
    "                      'g','kg','ml','l','litro','unidades','cm','m','mm',\n",
    "                      'xicara','colher','lata','sopa','colher','garrafa','dente',\n",
    "                      'cubos','fino','picado','picados','outro','outra','talo','untar','seco','cozido','moida','moido',\n",
    "                      'pequeno','pequena','ralada','crua',\n",
    "                      'centro', 'caseiro','tipo','limpos','medio','osso','ninhos','cortado','pele','temperatura',\n",
    "                      'ambiente', 'polvilhar','picante','ralado','pelado','pelados','maco','macos','debulhado','congelado',\n",
    "                      'bancada','pitada','semi','lavado','solido','descascada','cortada','descascado','cortado',\n",
    "                      'seleta', 'comprar','ja','congelada','vertical','grosseiramente','fatiado','fatiada','fatias','fatia',\n",
    "                      'hora','barbante','filtrada','dar','ponto','natural','embalagem','nao','maduras','fritar','raspas',\n",
    "                      'amanhecido','grande','preferencia','dose','doses','pedaco','triturado','triturada',\n",
    "                      'completar','partes','fervente','assadeira','picadas','picados','picada','picado','cacho',\n",
    "                      'caso','queira','talo','fresca','fresco','cozinha','frigideira',\n",
    "                      'cortada','cortado','ate','desossado','somente','punhado','esfarelada',\n",
    "                      'curta','amolecida','manter','decorar','dessalgadas','dessalgado','dessalgado',\n",
    "                      'caroco','cubinhos','duro','servir','recheio','opcional','temperado','desfiada','defumada',\n",
    "                      'bem','abrir','abertas','abaixo','aproximadamente','aparas','voce','acompanhar','total',\n",
    "                      'vitoria','williams','amassada','americana','americano','aperitivo','azul','club','discos','maos',\n",
    "                      'meio','meia','mesa','material','metade','quente','preta','preto','tambem','thompsom','veja','variadas',\n",
    "                      'vermelhinha','vermelha','tesoura','panela','lua','link','grossa','grosso','grelhar','gostas',\n",
    "                      'fina','finalizar','finas','fio','firme','fitas','forma','formosa','forno','forrar','forte','franceses',\n",
    "                      'encontrado','enfarinhar','escura','escolha','debora','cubo','cores','copo','comprado','compre',\n",
    "                      'comprimento','comum'\n",
    "                         ]\n",
    "\n",
    "    special_filtered_sentence = [w for w in x if not w in special_stop_words]\n",
    "    return special_filtered_sentence"
   ]
  },
  {
   "cell_type": "code",
   "execution_count": 17,
   "metadata": {},
   "outputs": [],
   "source": [
    "#Applying function\n",
    "df['final_ingredients'] = df['final_ingredients'].apply(special_cleaning)"
   ]
  },
  {
   "cell_type": "markdown",
   "metadata": {},
   "source": [
    "Now, we finally have a clean list of ingredients! "
   ]
  },
  {
   "cell_type": "markdown",
   "metadata": {},
   "source": [
    "### Count Vectorizer"
   ]
  },
  {
   "cell_type": "code",
   "execution_count": 18,
   "metadata": {},
   "outputs": [],
   "source": [
    "def destokenize(x):\n",
    "    return str(x).replace('[','').replace(']','').replace(\"'\",'').replace(',','')\n",
    "\n",
    "#This is usefull for applying Count Vectorizer on ingredients\n",
    "df['all_ingredients'] = df['final_ingredients'].apply(destokenize)"
   ]
  },
  {
   "cell_type": "code",
   "execution_count": 19,
   "metadata": {},
   "outputs": [],
   "source": [
    "#Dataset copy\n",
    "df2=df.copy()"
   ]
  },
  {
   "cell_type": "code",
   "execution_count": 20,
   "metadata": {},
   "outputs": [],
   "source": [
    "from sklearn.feature_extraction.text import CountVectorizer\n",
    "import nltk\n",
    "\n",
    "vectorizer = CountVectorizer()\n",
    "doc_vec = vectorizer.fit_transform(df2.all_ingredients)"
   ]
  },
  {
   "cell_type": "markdown",
   "metadata": {},
   "source": [
    "### Dish-type classification "
   ]
  },
  {
   "cell_type": "code",
   "execution_count": 21,
   "metadata": {},
   "outputs": [
    {
     "name": "stderr",
     "output_type": "stream",
     "text": [
      "C:\\Users\\isabe\\Anaconda3\\lib\\site-packages\\sklearn\\linear_model\\stochastic_gradient.py:166: FutureWarning: max_iter and tol parameters have been added in SGDClassifier in 0.19. If both are left unset, they default to max_iter=5 and tol=None. If tol is not None, max_iter defaults to max_iter=1000. From 0.21, default max_iter will be 1000, and default tol will be 1e-3.\n",
      "  FutureWarning)\n"
     ]
    }
   ],
   "source": [
    "#Splitting the dataset\n",
    "from sklearn.linear_model import SGDClassifier\n",
    "from sklearn.model_selection import train_test_split\n",
    "x_train, x_test, y_train, y_test = train_test_split(doc_vec.toarray(),df2.type, test_size=0.3)\n",
    "\n",
    "#Defining the model, training and predicting it\n",
    "sgd = SGDClassifier()\n",
    "pred = sgd.fit(x_train,y_train).predict(x_test)"
   ]
  },
  {
   "cell_type": "code",
   "execution_count": 22,
   "metadata": {},
   "outputs": [
    {
     "data": {
      "image/png": "[encoded data removed]",
      "text/plain": [
       "<Figure size 576x396 with 1 Axes>"
      ]
     },
     "metadata": {},
     "output_type": "display_data"
    },
    {
     "data": {
      "text/plain": [
       "<matplotlib.axes._subplots.AxesSubplot at 0x17fcef4a3c8>"
      ]
     },
     "execution_count": 22,
     "metadata": {},
     "output_type": "execute_result"
    }
   ],
   "source": [
    "from yellowbrick.classifier import ConfusionMatrix\n",
    "\n",
    "# The ConfusionMatrix visualizer taxes a model\n",
    "cm = ConfusionMatrix(sgd, classes=['dessert','drink','main','side'])\n",
    "\n",
    "# Fit fits the passed model. This is unnecessary if you pass the visualizer a pre-fitted model\n",
    "cm.fit(x_train, y_train)\n",
    "\n",
    "# To create the ConfusionMatrix, we need some test data. Score runs predict() on the data\n",
    "# and then creates the confusion_matrix from scikit-learn.\n",
    "cm.score(x_test, y_test)\n",
    "\n",
    "# How did we do?\n",
    "cm.show()"
   ]
  },
  {
   "cell_type": "markdown",
   "metadata": {},
   "source": [
    "### Recommendation program"
   ]
  },
  {
   "cell_type": "code",
   "execution_count": 23,
   "metadata": {},
   "outputs": [],
   "source": [
    "#Building the dummy dataset based on doc_vec\n",
    "s = np.where( doc_vec.toarray() > 0, 1,0)\n",
    "data = pd.DataFrame(data = s, columns = vectorizer.get_feature_names())\n",
    "\n",
    "#Concatenating new columns for score calculation\n",
    "data['ingredients_number'] = data.sum(axis=1)\n",
    "data['links'] = df2.links"
   ]
  },
  {
   "cell_type": "code",
   "execution_count": 24,
   "metadata": {},
   "outputs": [],
   "source": [
    "final_bag_of_ingredients =  vectorizer.get_feature_names()\n",
    "\n",
    "#Mispelling corrections and adjustments for input\n",
    "\n",
    "import re\n",
    "import string\n",
    "from collections import Counter\n",
    "\n",
    "def words(text): return re.findall(r'\\w+', text.lower())\n",
    "\n",
    "WORDS = Counter(final_bag_of_ingredients)\n",
    "\n",
    "def P(word, N=sum(WORDS.values())): \n",
    "    \"Probability of `word`.\"\n",
    "    print('\\nP: ',(WORDS[word] / N))\n",
    "    return WORDS[word] / N\n",
    "\n",
    "def correction(word): \n",
    "    #import pdb; pdb.set_trace()\n",
    "    \"Most probable spelling correction for word.\"\n",
    "    return max(candidates(word), key=P)\n",
    "\n",
    "def candidates(word): \n",
    "    \"Generate possible spelling corrections for word.\"\n",
    "    return (known([word]) or known(edits1(word)) or known(edits2(word)) or [word])\n",
    "\n",
    "def known(words): \n",
    "    \"The subset of `words` that appear in the dictionary of WORDS.\"\n",
    "    #print('\\nknow: ',set(w for w in words if w in WORDS))\n",
    "    return set(w for w in words if w in WORDS)\n",
    "\n",
    "def edits1(word):\n",
    "    \"All edits that are one edit away from `word`.\"\n",
    "    letters    = 'abcdefghijklmnopqrstuvwxyz'\n",
    "    splits     = [(word[:i], word[i:])    for i in range(len(word) + 1)]\n",
    "    deletes    = [L + R[1:]               for L, R in splits if R]\n",
    "    transposes = [L + R[1] + R[0] + R[2:] for L, R in splits if len(R)>1]\n",
    "    replaces   = [L + c + R[1:]           for L, R in splits if R for c in letters]\n",
    "    inserts    = [L + c + R               for L, R in splits for c in letters]\n",
    "    #print ('\\nedits1: ', set(deletes + transposes + replaces + inserts))\n",
    "    return set(deletes + transposes + replaces + inserts)\n",
    "\n",
    "def edits2(word): \n",
    "    \"All edits that are two edits away from `word`.\"\n",
    "    return (e2 for e1 in edits1(word) for e2 in edits1(e1))"
   ]
  },
  {
   "cell_type": "code",
   "execution_count": 25,
   "metadata": {},
   "outputs": [],
   "source": [
    "#Mispelling corrections and adjustments for input according to bag_of_ingredients\n",
    "import re\n",
    "import string\n",
    "from collections import Counter\n",
    "\n",
    "def words2(text): return re.findall(r'\\w+', text.lower())\n",
    "\n",
    "WORDS2 = Counter(bag_of_ingredients)\n",
    "\n",
    "def P2(word2, N=sum(WORDS2.values())): \n",
    "    \"Probability of `word2`.\"\n",
    "    print('\\nP: ',(WORDS2[word2] / N))\n",
    "    return WORDS2[word2] / N\n",
    "\n",
    "def correction2(word2): \n",
    "    #import pdb; pdb.set_trace()\n",
    "    \"Most probable spelling correction for word.\"\n",
    "    return max(candidates2(word2), key=P2)\n",
    "\n",
    "def candidates2(word2): \n",
    "    \"Generate possible spelling corrections for word.\"\n",
    "    return (known2([word2]) or known2(edits12(word2)) or known2(edits22(word2)) or [word2])\n",
    "\n",
    "def known2(words2): \n",
    "    \"The subset of `words` that appear in the dictionary of WORDS.\"\n",
    "    #print('\\nknow: ',set(w for w in words if w in WORDS))\n",
    "    return set(w for w in words2 if w in WORDS2)\n",
    "\n",
    "def edits12(word2):\n",
    "    \"All edits that are one edit away from `word2`.\"\n",
    "    letters2    = 'abcdefghijklmnopqrstuvwxyz'\n",
    "    splits2     = [(word2[:i], word2[i:])    for i in range(len(word2) + 1)]\n",
    "    deletes2    = [L + R[1:]               for L, R in splits2 if R]\n",
    "    transposes2 = [L + R[1] + R[0] + R[2:] for L, R in splits2 if len(R)>1]\n",
    "    replaces2   = [L + c + R[1:]           for L, R in splits2 if R for c in letters2]\n",
    "    inserts2    = [L + c + R               for L, R in splits2 for c in letters2]\n",
    "    #print ('\\nedits1: ', set(deletes + transposes + replaces + inserts))\n",
    "    return set(deletes2 + transposes2 + replaces2 + inserts2)\n",
    "\n",
    "def edits22(word2): \n",
    "    \"All edits that are two edits away from `word2`.\"\n",
    "    return (e22 for e12 in edits12(word2) for e22 in edits12(e12))"
   ]
  },
  {
   "cell_type": "code",
   "execution_count": 26,
   "metadata": {},
   "outputs": [],
   "source": [
    "#Function for recommendation\n",
    "def recipe_suggestion(lista):\n",
    "    lista2 = lista.split()\n",
    "    lista2 = special_stem(lista2)\n",
    "    lista2 = [correction2(i) for i in lista2]\n",
    "    lista2 = special_stem(lista2)\n",
    "    lista2 = [correction(i) for i in lista2]\n",
    "    lista2.append('links')\n",
    "    lista2.append('ingredients_number')\n",
    "    \n",
    "    #Filtering the selected columns\n",
    "    filtered_data = data.filter(items=lista2)\n",
    "\n",
    "    #Creating the selected ingredients column, with the number of ingredients in list found in each recipe\n",
    "    filtered_data['selected_ingredients'] = filtered_data.sum(axis=1) - filtered_data.ingredients_number\n",
    "\n",
    "    c = int((len(lista2)-2)/2) #This number may be at least half of ingredients (rounded up)\n",
    "    filtered_data = filtered_data[filtered_data['selected_ingredients']>=c]\n",
    "\n",
    "    #Creating score: the lower, the best\n",
    "    filtered_data['score'] = filtered_data['ingredients_number'] - filtered_data['selected_ingredients']\n",
    "\n",
    "    results = filtered_data.sort_values(['selected_ingredients','score'], ascending=[False,True])\n",
    "    \n",
    "    #Selection of recommendations to display\n",
    "    #recomendacao = results[results['selected_ingredients'] ==  max(results.selected_ingredients)]\n",
    "        \n",
    "    #Recovering the dataset with full recipe details\n",
    "    #recommended_recipes = df2[df2['links'].isin(results.links)].reset_index(drop=True)\n",
    "    recommended_recipes = pd.merge(results.links, df2, on='links')\n",
    "    recommended_recipes = recommended_recipes.head(20)\n",
    "    \n",
    "    return recommended_recipes"
   ]
  },
  {
   "cell_type": "code",
   "execution_count": 27,
   "metadata": {
    "scrolled": false
   },
   "outputs": [
    {
     "name": "stdout",
     "output_type": "stream",
     "text": [
      "Quais ingredientes você quer usar hoje?cenoura alho poro vagem\n",
      "\n",
      "P:  0.0008928571428571428\n",
      "\n",
      "P:  0.0008928571428571428\n",
      "\n",
      "P:  0.0008928571428571428\n",
      "\n",
      "P:  0.0008928571428571428\n",
      "\n",
      "P:  0.0013404825737265416\n",
      "\n",
      "P:  0.0013404825737265416\n",
      "\n",
      "P:  0.0013404825737265416\n",
      "\n",
      "P:  0.0013404825737265416\n",
      "Separei 20  receitas para você, confira:\n",
      "\n",
      " 1 .  Sanduíche de carne desfiada e mostarda de Dijon \n",
      "Tempo de preparo: Até 2h \n",
      "\n",
      "\n",
      " 2 .  Knaidlach com caldo de frango \n",
      "Tempo de preparo: Mais de 2h \n",
      "\n",
      "\n",
      " 3 .  Risoto de damasco, queijo meia-cura e limão em uma panela só \n",
      "Tempo de preparo: Até 1h \n",
      "\n",
      "\n",
      " 4 .  Blanquete de vitela com champignon à moda antiga \n",
      "Tempo de preparo: Até 2h \n",
      "\n",
      "\n",
      " 5 .  Milho refogado picante \n",
      "Tempo de preparo: Pá-Pum \n",
      "\n",
      "\n",
      " 6 .  Alho-poró assado levíssimo \n",
      "Tempo de preparo: Até 1h \n",
      "\n",
      "\n",
      " 7 .  Cuscuz com legumes assados \n",
      "Tempo de preparo: Até 2h \n",
      "\n",
      "\n",
      " 8 .  Vichyssoise com brotos e ovas de salmão \n",
      "Tempo de preparo: Pá-Pum \n",
      "\n",
      "\n",
      " 9 .  Arroz frito com cenoura e abobrinha \n",
      "Tempo de preparo: Pá-Pum \n",
      "\n",
      "\n",
      " 10 .  Arroz com refogado de alho-poró \n",
      "Tempo de preparo: Pá-Pum \n",
      "\n",
      "\n",
      " 11 .  Salada de legumes com maionese caseira \n",
      "Tempo de preparo: Até 1h \n",
      "\n",
      "\n",
      " 12 .  Purê de batata com alho-poró \n",
      "Tempo de preparo: Pá-Pum \n",
      "\n",
      "\n",
      " 13 .  Polenta grelhada com alho-poró \n",
      "Tempo de preparo: Até 1h \n",
      "\n",
      "\n",
      " 14 .  Cabelo de anjo com legumes para crianças \n",
      "Tempo de preparo: Pá-Pum \n",
      "\n",
      "\n",
      " 15 .  Patê de salmão \n",
      "Tempo de preparo: Pá-Pum \n",
      "\n",
      "\n",
      " 16 .  Frango com crosta de parmesão e panzanella de frigideira (salada morna) \n",
      "Tempo de preparo: Até 1h \n",
      "\n",
      "\n",
      " 17 .  Salada de macarrão com legumes, tomate e molho de mostarda \n",
      "Tempo de preparo: Pá-Pum \n",
      "\n",
      "\n",
      " 18 .  Salada morna de alho-poró \n",
      "Tempo de preparo: Pá-Pum \n",
      "\n",
      "\n",
      " 19 .  Pê-efe de bife de contrafilé com cenoura assada \n",
      "Tempo de preparo: Mais de 2h \n",
      "\n",
      "\n",
      " 20 .  Salada crua de alho-poró com pepino e tomate \n",
      "Tempo de preparo: Pá-Pum \n",
      "\n",
      "Selecione a sua favorita pelo número e confira os detalhes.2\n",
      "\n",
      " Knaidlach com caldo de frango \n",
      "\n"
     ]
    },
    {
     "data": {
      "text/html": [
       "<img src=https://cdn.panelinha.com.br/receita/1500917120261-knaid3.jpg width='35%' height='35%' >"
      ],
      "text/plain": [
       "<IPython.core.display.HTML object>"
      ]
     },
     "metadata": {},
     "output_type": "display_data"
    },
    {
     "name": "stdout",
     "output_type": "stream",
     "text": [
      "\n",
      " Ingredientes: \n",
      " 1 frango inteiro (cerca de 2 kg) 1 cenoura 1 talo de salsão 1 cebola 4 litros de água 1 folha de louro 1 talo de salsinha com as folhas 1 folha de alho-poró 5 grãos de pimenta-do-reino 3 cravos-da-índia \n",
      "\n",
      " Modo de preparo:\n",
      "   Faça o pré-preparo: lave a cenoura e o talo de salsão; descasque e corte a cenoura em 4 pedaços; reserve uma folha e corte o salsão em 4 pedaços; descasque e corte a cebola em quartos. Junte as folhas de salsão, de alho-poró, de louro e o talo de salsinha e amarre com um barbante de algodão para formar um buquê.   Retire os miúdos de dentro do frango e reserve na geladeira – você pode usar numa receita de  farofa . Corte as duas metades do peito do frango, bem rente ao osso – elas vão cozinhar por menos tempo do que o resto da ave e podem ser utilizadas em outra receita.   Numa panela grande (ou caldeirão), coloque o frango, os cortes do peito, os pedaços de cenoura, salsão e cebola. Regue com a água para cobrir todos os ingredientes e leve ao fogo médio.   Assim que subirem as primeiras bolhas da fervura, abaixe o fogo e deixe cozinhar, sem tampar, por 20 minutos. Com uma escumadeira, retire os cortes do peito de frango. Separe a carne da pele, volte a pele para a panela e reserve a carne na geladeira para outra receita. Mantenha o caldeirão em fogo baixo e deixe cozinhar por mais 1h30 – evite a fervura vigorosa, que pode dissipar o sabor dos ingredientes, além de turvar o caldo. Durante esse período, com a escumadeira, retire e descarte a espuma que subir à superfície.   Após as primeiras 2 horas de cozimento, acrescente o buquê de ervas, os grãos de pimenta-do-reino e os cravos. Deixe cozinhar por mais 2 horas – no total, o caldo leva 4 horas para ficar pronto. Durante este período você não precisa ficar colado no fogão: a cada meia hora dê uma olhadinha (se preferir, prepare o caldo no dia anterior).   Assim que o caldo estiver pronto, desligue o fogo e, com a escumadeira, retire e despreze o frango e os legumes – todo o sabor e nutrientes dos ingredientes passaram para o caldo. Sobre uma tigela grande, coe o caldo numa peneira forrada com um pano de algodão bem fino – assim ele fica translúcido. Reserve o caldo e prepare as bolinhas de matzá.   \n",
      "\n",
      " Confira no link:\n",
      " https://www.panelinha.com.br/receita/Knaidlach\n"
     ]
    }
   ],
   "source": [
    "def ingredients_choice():\n",
    "    lista = input(\"Quais ingredientes você quer usar hoje?\")\n",
    "    return lista\n",
    "    \n",
    "lista = ingredients_choice()\n",
    "\n",
    "resultado = recipe_suggestion(lista)\n",
    "\n",
    "print('Separei',len(resultado.name),' receitas para você, confira:')\n",
    "\n",
    "for i in range(0, len(resultado.name)):\n",
    "    print('\\n', i+1, '. ', resultado.name[i], '\\n'\n",
    "         'Tempo de preparo:', resultado.prep_time[i], '\\n')         \n",
    "\n",
    "options = [i for i in range(1, (len(resultado.name)+1))]\n",
    "    \n",
    "def recipe_choice():\n",
    "    selected_recipe = input(\"Selecione a sua favorita pelo número e confira os detalhes.\")\n",
    "    return int(selected_recipe)\n",
    "\n",
    "s = recipe_choice()\n",
    "\n",
    "while not s in options:\n",
    "    s = recipe_choice()\n",
    "\n",
    "print('\\n',resultado.name[(s-1)],'\\n')\n",
    "image_link = \"<img src=\" + str(resultado.images[(s-1)]) +  \" width='35%' height='35%' >\"\n",
    "display(HTML(image_link))\n",
    "print('\\n','Ingredientes: \\n',resultado.ingredients[(s-1)],'\\n\\n',\n",
    "     'Modo de preparo:\\n', resultado.directions[(s-1)],'\\n\\n',\n",
    "     'Confira no link:\\n', resultado.links[(s-1)])"
   ]
  },
  {
   "cell_type": "code",
   "execution_count": null,
   "metadata": {},
   "outputs": [],
   "source": []
  }
 ],
 "metadata": {
  "kernelspec": {
   "display_name": "Python 3",
   "language": "python",
   "name": "python3"
  },
  "language_info": {
   "codemirror_mode": {
    "name": "ipython",
    "version": 3
   },
   "file_extension": ".py",
   "mimetype": "text/x-python",
   "name": "python",
   "nbconvert_exporter": "python",
   "pygments_lexer": "ipython3",
   "version": "3.7.3"
  }
 },
 "nbformat": 4,
 "nbformat_minor": 2
}
