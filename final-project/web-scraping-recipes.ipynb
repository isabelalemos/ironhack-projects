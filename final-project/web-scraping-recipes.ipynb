{
 "cells": [
  {
   "cell_type": "code",
   "execution_count": 2,
   "metadata": {},
   "outputs": [],
   "source": [
    "import pandas as pd\n",
    "import numpy as np\n",
    "import requests\n",
    "from bs4 import BeautifulSoup\n",
    "import json\n",
    "from tqdm import tqdm, tqdm_notebook"
   ]
  },
  {
   "cell_type": "code",
   "execution_count": 2,
   "metadata": {},
   "outputs": [],
   "source": [
    "root = 'https://www.panelinha.com.br/receita/'"
   ]
  },
  {
   "cell_type": "code",
   "execution_count": 3,
   "metadata": {},
   "outputs": [
    {
     "data": {
      "application/vnd.jupyter.widget-view+json": {
       "model_id": "ce33f1ec555f4c1c924e3e8699df850d",
       "version_major": 2,
       "version_minor": 0
      },
      "text/plain": [
       "HBox(children=(IntProgress(value=0, max=99), HTML(value='')))"
      ]
     },
     "metadata": {},
     "output_type": "display_data"
    },
    {
     "name": "stdout",
     "output_type": "stream",
     "text": [
      "\n"
     ]
    }
   ],
   "source": [
    "#Web scraping of main dishes\n",
    "\n",
    "main_links = []\n",
    "\n",
    "for pagenumber in tqdm_notebook(range(1,100)):\n",
    "    url_main = 'https://panelinha-api-server-prod.herokuapp.com/v1/search?pageType=receita&category=Pratos%20principais&pageSize=12&pageNumber=' + str(pagenumber)\n",
    "\n",
    "    html = requests.get(url_main).content\n",
    "    htmljson = json.loads(html)\n",
    "    \n",
    "    lst =  htmljson['data']['results']\n",
    "\n",
    "    for i in range(0,len(lst)):\n",
    "        link = root + lst[i]['slug']\n",
    "        main_links.append(link)\n"
   ]
  },
  {
   "cell_type": "code",
   "execution_count": 4,
   "metadata": {},
   "outputs": [
    {
     "data": {
      "application/vnd.jupyter.widget-view+json": {
       "model_id": "1df61c98df67420ea3121a679d9e6d27",
       "version_major": 2,
       "version_minor": 0
      },
      "text/plain": [
       "HBox(children=(IntProgress(value=0, max=99), HTML(value='')))"
      ]
     },
     "metadata": {},
     "output_type": "display_data"
    },
    {
     "name": "stdout",
     "output_type": "stream",
     "text": [
      "\n"
     ]
    }
   ],
   "source": [
    "#Web scraping of side dishes\n",
    "\n",
    "side_links = []\n",
    "\n",
    "for pagenumber in tqdm_notebook(range(1,100)):\n",
    "    url_side = 'https://panelinha-api-server-prod.herokuapp.com/v1/search?category=Acompanhamentos&pageType=receita&pageSize=12&pageNumber=' + str(pagenumber)\n",
    "\n",
    "    html = requests.get(url_side).content\n",
    "    htmljson = json.loads(html)\n",
    "    \n",
    "    lst =  htmljson['data']['results']\n",
    "    \n",
    "    for i in range(0,len(lst)):\n",
    "        link = root + lst[i]['slug']\n",
    "        if link not in main_links:\n",
    "            side_links.append(link)\n"
   ]
  },
  {
   "cell_type": "code",
   "execution_count": 5,
   "metadata": {},
   "outputs": [
    {
     "data": {
      "application/vnd.jupyter.widget-view+json": {
       "model_id": "3eac369547f4462baa0a1219093da941",
       "version_major": 2,
       "version_minor": 0
      },
      "text/plain": [
       "HBox(children=(IntProgress(value=0, max=99), HTML(value='')))"
      ]
     },
     "metadata": {},
     "output_type": "display_data"
    },
    {
     "name": "stdout",
     "output_type": "stream",
     "text": [
      "\n"
     ]
    }
   ],
   "source": [
    "#Web scraping of desserts\n",
    "\n",
    "dessert_links = []\n",
    "\n",
    "for pagenumber in tqdm_notebook(range(1,100)):\n",
    "    url_dessert = 'https://panelinha-api-server-prod.herokuapp.com/v1/search?pageType=receita&category=Sobremesas&pageSize=12&pageNumber=' + str(pagenumber)\n",
    "\n",
    "    html = requests.get(url_dessert).content\n",
    "    htmljson = json.loads(html)\n",
    "    \n",
    "    lst =  htmljson['data']['results']\n",
    "    \n",
    "    for i in range(0,len(lst)):\n",
    "        link = root + lst[i]['slug']\n",
    "        if link not in main_links and link not in side_links:\n",
    "            dessert_links.append(link)\n"
   ]
  },
  {
   "cell_type": "code",
   "execution_count": 6,
   "metadata": {},
   "outputs": [
    {
     "data": {
      "application/vnd.jupyter.widget-view+json": {
       "model_id": "097330ad4b5c495f8d9dd9211570e5a9",
       "version_major": 2,
       "version_minor": 0
      },
      "text/plain": [
       "HBox(children=(IntProgress(value=0, max=99), HTML(value='')))"
      ]
     },
     "metadata": {},
     "output_type": "display_data"
    },
    {
     "name": "stdout",
     "output_type": "stream",
     "text": [
      "\n"
     ]
    }
   ],
   "source": [
    "#Web scraping of drinks\n",
    "\n",
    "drink_links = []\n",
    "\n",
    "for pagenumber in tqdm_notebook(range(1,100)):\n",
    "    url_drink = 'https://panelinha-api-server-prod.herokuapp.com/v1/search?pageType=receita&category=Bebidas&pageSize=12&pageNumber=' + str(pagenumber)\n",
    "\n",
    "    html = requests.get(url_drink).content\n",
    "    htmljson = json.loads(html)\n",
    "    \n",
    "    lst =  htmljson['data']['results']\n",
    "    \n",
    "    for i in range(0,len(lst)):\n",
    "        link = root + lst[i]['slug']\n",
    "        if link not in main_links and link not in side_links and link not in dessert_links:\n",
    "            drink_links.append(link)"
   ]
  },
  {
   "cell_type": "code",
   "execution_count": 7,
   "metadata": {},
   "outputs": [],
   "source": [
    "def df_builder(link_list, typ):\n",
    "    df = pd.DataFrame({'links':link_list})\n",
    "    df['type'] = len(df)*[typ]\n",
    "    return df\n",
    "\n",
    "#Transforming lists into dataframes\n",
    "df_main = df_builder(main_links, 'main')\n",
    "df_side = df_builder(side_links, 'side')\n",
    "df_dessert = df_builder(dessert_links, 'dessert')\n",
    "df_drink = df_builder(drink_links, 'drink')\n",
    "\n",
    "#Combining all of them in one dataframe\n",
    "recipes = pd.concat([df_main, df_side, df_dessert, df_drink]).reset_index(drop=True)"
   ]
  },
  {
   "cell_type": "code",
   "execution_count": 8,
   "metadata": {},
   "outputs": [],
   "source": [
    "recipes.to_csv('recipes_links.csv', index=False)"
   ]
  },
  {
   "cell_type": "code",
   "execution_count": 3,
   "metadata": {},
   "outputs": [],
   "source": [
    "recipes=pd.read_csv('recipes_links.csv')"
   ]
  },
  {
   "cell_type": "code",
   "execution_count": 4,
   "metadata": {},
   "outputs": [
    {
     "data": {
      "text/html": [
       "<div>\n",
       "<style scoped>\n",
       "    .dataframe tbody tr th:only-of-type {\n",
       "        vertical-align: middle;\n",
       "    }\n",
       "\n",
       "    .dataframe tbody tr th {\n",
       "        vertical-align: top;\n",
       "    }\n",
       "\n",
       "    .dataframe thead th {\n",
       "        text-align: right;\n",
       "    }\n",
       "</style>\n",
       "<table border=\"1\" class=\"dataframe\">\n",
       "  <thead>\n",
       "    <tr style=\"text-align: right;\">\n",
       "      <th></th>\n",
       "      <th>links</th>\n",
       "      <th>type</th>\n",
       "    </tr>\n",
       "  </thead>\n",
       "  <tbody>\n",
       "    <tr>\n",
       "      <td>0</td>\n",
       "      <td>https://www.panelinha.com.br/receita/rosbife</td>\n",
       "      <td>main</td>\n",
       "    </tr>\n",
       "    <tr>\n",
       "      <td>1</td>\n",
       "      <td>https://www.panelinha.com.br/receita/lombo-ass...</td>\n",
       "      <td>main</td>\n",
       "    </tr>\n",
       "    <tr>\n",
       "      <td>2</td>\n",
       "      <td>https://www.panelinha.com.br/receita/polenta-c...</td>\n",
       "      <td>main</td>\n",
       "    </tr>\n",
       "    <tr>\n",
       "      <td>3</td>\n",
       "      <td>https://www.panelinha.com.br/receita/macarrao-...</td>\n",
       "      <td>main</td>\n",
       "    </tr>\n",
       "    <tr>\n",
       "      <td>4</td>\n",
       "      <td>https://www.panelinha.com.br/receita/arroz-fri...</td>\n",
       "      <td>main</td>\n",
       "    </tr>\n",
       "  </tbody>\n",
       "</table>\n",
       "</div>"
      ],
      "text/plain": [
       "                                               links  type\n",
       "0       https://www.panelinha.com.br/receita/rosbife  main\n",
       "1  https://www.panelinha.com.br/receita/lombo-ass...  main\n",
       "2  https://www.panelinha.com.br/receita/polenta-c...  main\n",
       "3  https://www.panelinha.com.br/receita/macarrao-...  main\n",
       "4  https://www.panelinha.com.br/receita/arroz-fri...  main"
      ]
     },
     "execution_count": 4,
     "metadata": {},
     "output_type": "execute_result"
    }
   ],
   "source": [
    "recipes.head()"
   ]
  },
  {
   "cell_type": "code",
   "execution_count": 5,
   "metadata": {},
   "outputs": [
    {
     "data": {
      "application/vnd.jupyter.widget-view+json": {
       "model_id": "0fe7b614ef3a4a098ce19ba97e35ca46",
       "version_major": 2,
       "version_minor": 0
      },
      "text/plain": [
       "HBox(children=(IntProgress(value=0, max=1537), HTML(value='')))"
      ]
     },
     "metadata": {},
     "output_type": "display_data"
    },
    {
     "name": "stdout",
     "output_type": "stream",
     "text": [
      "\n"
     ]
    }
   ],
   "source": [
    "names_list = []\n",
    "portions_list = []\n",
    "prep_time_list = []\n",
    "ingredients_list = []\n",
    "directions_list = []\n",
    "images_list = []\n",
    "\n",
    "for i in tqdm_notebook(range(0,len(recipes.links))):\n",
    "    html = requests.get(recipes.links[i]).content\n",
    "    soup = BeautifulSoup(html,\"lxml\")\n",
    "    \n",
    "    name = soup.find('h1').get_text()\n",
    "    names_list.append(name)\n",
    "    \n",
    "    portions = soup.find_all('span',{'class':'dd'})[2].get_text().strip()\n",
    "    portions_list.append(portions)\n",
    "    \n",
    "    prep_time = soup.find_all('span',{'class':'dd'})[1].get_text()\n",
    "    prep_time_list.append(prep_time)\n",
    "    \n",
    "    ingredients = soup.find_all('div',{'class':'editor ng-star-inserted'})[0].get_text(separator=' ')\n",
    "    ingredients_list.append(ingredients)\n",
    "    \n",
    "    directions = soup.find_all('div',{'class':'editor ng-star-inserted'})[1].get_text(separator=' ').replace('\\n', ' ').replace('\\xa0',' ')\n",
    "    directions_list.append(directions)\n",
    "    \n",
    "    images = soup.find('img',{'alt':'Imagem da receita','class':'expanded'})['src']\n",
    "    images_list.append(images)\n",
    "    \n",
    "recipes['name'] = names_list\n",
    "recipes['portions'] = portions_list\n",
    "recipes['prep_time'] = prep_time_list\n",
    "recipes['ingredients'] = ingredients_list\n",
    "recipes['directions'] = directions_list\n",
    "recipes['images'] = images_list"
   ]
  },
  {
   "cell_type": "code",
   "execution_count": 6,
   "metadata": {},
   "outputs": [
    {
     "data": {
      "text/html": [
       "<div>\n",
       "<style scoped>\n",
       "    .dataframe tbody tr th:only-of-type {\n",
       "        vertical-align: middle;\n",
       "    }\n",
       "\n",
       "    .dataframe tbody tr th {\n",
       "        vertical-align: top;\n",
       "    }\n",
       "\n",
       "    .dataframe thead th {\n",
       "        text-align: right;\n",
       "    }\n",
       "</style>\n",
       "<table border=\"1\" class=\"dataframe\">\n",
       "  <thead>\n",
       "    <tr style=\"text-align: right;\">\n",
       "      <th></th>\n",
       "      <th>links</th>\n",
       "      <th>type</th>\n",
       "      <th>name</th>\n",
       "      <th>portions</th>\n",
       "      <th>prep_time</th>\n",
       "      <th>ingredients</th>\n",
       "      <th>directions</th>\n",
       "      <th>images</th>\n",
       "    </tr>\n",
       "  </thead>\n",
       "  <tbody>\n",
       "    <tr>\n",
       "      <td>0</td>\n",
       "      <td>https://www.panelinha.com.br/receita/rosbife</td>\n",
       "      <td>main</td>\n",
       "      <td>Rosbife</td>\n",
       "      <td>Até 4 porções</td>\n",
       "      <td>Até 1h</td>\n",
       "      <td>1 peça de filé mignon para rosbife (cerca de 7...</td>\n",
       "      <td>Preaqueça o forno a 220 ºC (temperatura alta...</td>\n",
       "      <td>https://cdn.panelinha.com.br/receita/156950588...</td>\n",
       "    </tr>\n",
       "    <tr>\n",
       "      <td>1</td>\n",
       "      <td>https://www.panelinha.com.br/receita/lombo-ass...</td>\n",
       "      <td>main</td>\n",
       "      <td>Lombo assado com tomates e ervas</td>\n",
       "      <td>8 porções</td>\n",
       "      <td>Mais de 2h</td>\n",
       "      <td>1 kg de lombo de porco em peça com capa de gor...</td>\n",
       "      <td>Seque bem a peça de lombo com papel-toalha o...</td>\n",
       "      <td>https://cdn.panelinha.com.br/receita/156590045...</td>\n",
       "    </tr>\n",
       "    <tr>\n",
       "      <td>2</td>\n",
       "      <td>https://www.panelinha.com.br/receita/polenta-c...</td>\n",
       "      <td>main</td>\n",
       "      <td>Polenta caprese com refogado de legumes</td>\n",
       "      <td>Até 2 porções</td>\n",
       "      <td>Pá-Pum</td>\n",
       "      <td>1 abobrinha 1 alho-poró 2 tomates maduros ½ xí...</td>\n",
       "      <td>Lave e seque o alho poró. Corte o talo em ro...</td>\n",
       "      <td>https://cdn.panelinha.com.br/receita/156589878...</td>\n",
       "    </tr>\n",
       "    <tr>\n",
       "      <td>3</td>\n",
       "      <td>https://www.panelinha.com.br/receita/macarrao-...</td>\n",
       "      <td>main</td>\n",
       "      <td>Macarrão à carbonara</td>\n",
       "      <td>2 porções</td>\n",
       "      <td>Pá-Pum</td>\n",
       "      <td>160 g de macarrão bavette (ou outro massa long...</td>\n",
       "      <td>Leve uma panela média com 2 litros de água a...</td>\n",
       "      <td>https://cdn.panelinha.com.br/receita/156589381...</td>\n",
       "    </tr>\n",
       "    <tr>\n",
       "      <td>4</td>\n",
       "      <td>https://www.panelinha.com.br/receita/arroz-fri...</td>\n",
       "      <td>main</td>\n",
       "      <td>Arroz frito com omelete japonesa</td>\n",
       "      <td>Até 2 porções</td>\n",
       "      <td>Pá-Pum</td>\n",
       "      <td>2 ovos 2 xícaras (chá) de   arroz cozido  1 ce...</td>\n",
       "      <td>Descasque e passe a cenoura pela parte gross...</td>\n",
       "      <td>https://cdn.panelinha.com.br/receita/156589304...</td>\n",
       "    </tr>\n",
       "  </tbody>\n",
       "</table>\n",
       "</div>"
      ],
      "text/plain": [
       "                                               links  type  \\\n",
       "0       https://www.panelinha.com.br/receita/rosbife  main   \n",
       "1  https://www.panelinha.com.br/receita/lombo-ass...  main   \n",
       "2  https://www.panelinha.com.br/receita/polenta-c...  main   \n",
       "3  https://www.panelinha.com.br/receita/macarrao-...  main   \n",
       "4  https://www.panelinha.com.br/receita/arroz-fri...  main   \n",
       "\n",
       "                                      name       portions   prep_time  \\\n",
       "0                                  Rosbife  Até 4 porções      Até 1h   \n",
       "1         Lombo assado com tomates e ervas      8 porções  Mais de 2h   \n",
       "2  Polenta caprese com refogado de legumes  Até 2 porções      Pá-Pum   \n",
       "3                     Macarrão à carbonara      2 porções      Pá-Pum   \n",
       "4        Arroz frito com omelete japonesa   Até 2 porções      Pá-Pum   \n",
       "\n",
       "                                         ingredients  \\\n",
       "0  1 peça de filé mignon para rosbife (cerca de 7...   \n",
       "1  1 kg de lombo de porco em peça com capa de gor...   \n",
       "2  1 abobrinha 1 alho-poró 2 tomates maduros ½ xí...   \n",
       "3  160 g de macarrão bavette (ou outro massa long...   \n",
       "4  2 ovos 2 xícaras (chá) de   arroz cozido  1 ce...   \n",
       "\n",
       "                                          directions  \\\n",
       "0    Preaqueça o forno a 220 ºC (temperatura alta...   \n",
       "1    Seque bem a peça de lombo com papel-toalha o...   \n",
       "2    Lave e seque o alho poró. Corte o talo em ro...   \n",
       "3    Leve uma panela média com 2 litros de água a...   \n",
       "4    Descasque e passe a cenoura pela parte gross...   \n",
       "\n",
       "                                              images  \n",
       "0  https://cdn.panelinha.com.br/receita/156950588...  \n",
       "1  https://cdn.panelinha.com.br/receita/156590045...  \n",
       "2  https://cdn.panelinha.com.br/receita/156589878...  \n",
       "3  https://cdn.panelinha.com.br/receita/156589381...  \n",
       "4  https://cdn.panelinha.com.br/receita/156589304...  "
      ]
     },
     "execution_count": 6,
     "metadata": {},
     "output_type": "execute_result"
    }
   ],
   "source": [
    "recipes.head()"
   ]
  },
  {
   "cell_type": "code",
   "execution_count": 7,
   "metadata": {},
   "outputs": [],
   "source": [
    "recipes.to_csv('recipes_full_info.csv', index=False)"
   ]
  }
 ],
 "metadata": {
  "kernelspec": {
   "display_name": "Python 3",
   "language": "python",
   "name": "python3"
  },
  "language_info": {
   "codemirror_mode": {
    "name": "ipython",
    "version": 3
   },
   "file_extension": ".py",
   "mimetype": "text/x-python",
   "name": "python",
   "nbconvert_exporter": "python",
   "pygments_lexer": "ipython3",
   "version": "3.7.3"
  }
 },
 "nbformat": 4,
 "nbformat_minor": 2
}
